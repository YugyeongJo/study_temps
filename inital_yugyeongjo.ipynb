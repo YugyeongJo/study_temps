{
  "nbformat": 4,
  "nbformat_minor": 0,
  "metadata": {
    "colab": {
      "provenance": [],
      "authorship_tag": "ABX9TyPZ//kEvRT+myPMg1YYRYiL",
      "include_colab_link": true
    },
    "kernelspec": {
      "name": "python3",
      "display_name": "Python 3"
    },
    "language_info": {
      "name": "python"
    }
  },
  "cells": [
    {
      "cell_type": "markdown",
      "metadata": {
        "id": "view-in-github",
        "colab_type": "text"
      },
      "source": [
        "<a href=\"https://colab.research.google.com/github/YugyeongJo/study_temps/blob/main/inital_yugyeongjo.ipynb\" target=\"_parent\"><img src=\"https://colab.research.google.com/assets/colab-badge.svg\" alt=\"Open In Colab\"/></a>"
      ]
    },
    {
      "cell_type": "code",
      "execution_count": null,
      "metadata": {
        "colab": {
          "base_uri": "https://localhost:8080/"
        },
        "id": "iwKEUQPIkwP5",
        "outputId": "112b3f40-fb0c-46cc-d352-a3ec2cd0eb3f"
      },
      "outputs": [
        {
          "output_type": "stream",
          "name": "stdout",
          "text": [
            "안녕하세요. 첫 개발 시작입니다.\n"
          ]
        }
      ],
      "source": [
        "#여긴 화면 출력 명령어\n",
        "print(\"안녕하세요. 첫 개발 시작입니다.\") # 안녕. 출력"
      ]
    },
    {
      "cell_type": "code",
      "source": [
        "#quest 1\n",
        "print(\"조유경은 데이터 엔지니어 양성과정을 듣습니다.\")"
      ],
      "metadata": {
        "colab": {
          "base_uri": "https://localhost:8080/"
        },
        "id": "bFg5z3PWoeVk",
        "outputId": "65ca4ac3-7c2a-4440-afb1-73b7169f03d3"
      },
      "execution_count": null,
      "outputs": [
        {
          "output_type": "stream",
          "name": "stdout",
          "text": [
            "조유경은 데이터 엔지니어 양성과정을 듣습니다.\n"
          ]
        }
      ]
    },
    {
      "cell_type": "code",
      "source": [
        "#숫자화된 문자 출력 with 상수\n",
        "print(\"4+5\")"
      ],
      "metadata": {
        "colab": {
          "base_uri": "https://localhost:8080/"
        },
        "id": "O6L04m_jtmGk",
        "outputId": "0027c199-5b08-464b-9598-38f6b5956c58"
      },
      "execution_count": null,
      "outputs": [
        {
          "output_type": "stream",
          "name": "stdout",
          "text": [
            "4+5\n"
          ]
        }
      ]
    },
    {
      "cell_type": "code",
      "source": [
        "# 숫자출력 with 상수\n",
        "print(4+5)"
      ],
      "metadata": {
        "colab": {
          "base_uri": "https://localhost:8080/"
        },
        "id": "b4By41k_ubW0",
        "outputId": "9646056e-a164-42ab-ff11-6cd752229b31"
      },
      "execution_count": null,
      "outputs": [
        {
          "output_type": "stream",
          "name": "stdout",
          "text": [
            "9\n"
          ]
        }
      ]
    },
    {
      "cell_type": "code",
      "source": [
        "#숫자화된 문자 출력 with 변수\n",
        "numberwithval = \"4+5\"\n",
        "print(numberwithval)"
      ],
      "metadata": {
        "colab": {
          "base_uri": "https://localhost:8080/"
        },
        "id": "9uLUSFY7xQE6",
        "outputId": "a5c8e110-b490-4af6-9dd2-a251f43f576a"
      },
      "execution_count": null,
      "outputs": [
        {
          "output_type": "stream",
          "name": "stdout",
          "text": [
            "4+5\n"
          ]
        }
      ]
    },
    {
      "cell_type": "code",
      "source": [
        "numberwithvals = 4+5\n",
        "print(numberwithvals)"
      ],
      "metadata": {
        "colab": {
          "base_uri": "https://localhost:8080/"
        },
        "id": "vrraG6rJyCfL",
        "outputId": "b8829f67-b6be-471e-fcdc-66cc13488b6f"
      },
      "execution_count": null,
      "outputs": [
        {
          "output_type": "stream",
          "name": "stdout",
          "text": [
            "9\n"
          ]
        }
      ]
    },
    {
      "cell_type": "code",
      "source": [
        "#quest 2\n",
        "numberwith = \"40+50\"\n",
        "print(numberwith)"
      ],
      "metadata": {
        "colab": {
          "base_uri": "https://localhost:8080/"
        },
        "id": "JFUaGuFY06cf",
        "outputId": "1860c170-9e5b-4dff-f2d5-7d45c8340f36"
      },
      "execution_count": null,
      "outputs": [
        {
          "output_type": "stream",
          "name": "stdout",
          "text": [
            "40+50\n"
          ]
        }
      ]
    },
    {
      "cell_type": "code",
      "source": [
        "#숫자화된 변수 출력 with 변수\n",
        "numbers = numberwithval + \"=9\"\n",
        "print(numbers)"
      ],
      "metadata": {
        "colab": {
          "base_uri": "https://localhost:8080/"
        },
        "id": "U3JYwIMC1z4U",
        "outputId": "46afe224-f6f2-4f46-a6df-bbf78d41371a"
      },
      "execution_count": null,
      "outputs": [
        {
          "output_type": "stream",
          "name": "stdout",
          "text": [
            "4+5=9\n"
          ]
        }
      ]
    },
    {
      "cell_type": "code",
      "source": [
        "#여긴 화면 출력 명령어\n",
        "print(\"안녕하세요. 첫 개발 시작입니다.\") #안녕. 출력\n",
        "#quest1\n",
        "print(\"조유경은 데이터 엔지니어 양성과정을 듣습니다.\")\n",
        "#숫자화된 문자 출력 with 상수\n",
        "print(\"4+5\")\n",
        "#숫자출력 with 상수\n",
        "print(4+5)\n",
        "#숫자화된 문자 출력 with 변수\n",
        "numberwithval = \"4+5\"\n",
        "print(numberwithval)\n",
        "numberwithvalsl = 4+5\n",
        "print(numberwithvals)\n",
        "#quest2\n",
        "numberwith = \"40+50\"\n",
        "print(numberwith)\n",
        "#숫자화된 변수 출력 with 변수\n",
        "numbers = numberwithval + \"=9\"\n",
        "print(numbers)"
      ],
      "metadata": {
        "colab": {
          "base_uri": "https://localhost:8080/"
        },
        "id": "ckMQPc0m6uwi",
        "outputId": "b9872af8-4586-4427-fd55-67580290ecd7"
      },
      "execution_count": null,
      "outputs": [
        {
          "output_type": "stream",
          "name": "stdout",
          "text": [
            "안녕하세요. 첫 개발 시작입니다.\n",
            "조유경은 데이터 엔지니어 양성과정을 듣습니다.\n",
            "4+5\n",
            "9\n",
            "4+5\n",
            "9\n",
            "40+50\n",
            "4+5=9\n"
          ]
        }
      ]
    },
    {
      "cell_type": "code",
      "source": [
        "#여긴 화면 출력 명령어\n",
        "print(\"안녕하세요. 첫 개발 시작입니다.\") #안녕. 출력\n",
        "#quest1\n",
        "print(\"조유경은 데이터 엔지니어 양성과정을 듣습니다.\")\n",
        "#숫자화된 문자 출력 with 상수\n",
        "print(\"4+5\")\n",
        "#숫자출력 with 상수\n",
        "print(4+5)\n",
        "#숫자화된 문자 출력 with 변수\n",
        "numberwithval = \"4+5\"\n",
        "print(numberwithval)\n",
        "numberwithvals = 4+5\n",
        "print(numberwithvals)\n",
        "#quest2\n",
        "numberwith = \"40=50\"\n",
        "print(numberwith)\n",
        "#숫자화된 변수 출력 with 변수\n",
        "numbers = numberwithval + \"=9\"\n",
        "print(numbers)"
      ],
      "metadata": {
        "id": "Zkw8xn518iEJ",
        "outputId": "8c701aeb-f969-40cc-8090-4ed65fa87c59",
        "colab": {
          "base_uri": "https://localhost:8080/"
        }
      },
      "execution_count": null,
      "outputs": [
        {
          "output_type": "stream",
          "name": "stdout",
          "text": [
            "안녕하세요. 첫 개발 시작입니다.\n",
            "조유경은 데이터 엔지니어 양성과정을 듣습니다.\n",
            "4+5\n",
            "9\n",
            "4+5\n",
            "9\n",
            "40=50\n",
            "4+5=9\n"
          ]
        }
      ]
    },
    {
      "cell_type": "code",
      "source": [
        "# 데이터 타입이 숫자 with 변수\n",
        "result = 4 + 5\n",
        "print(result)"
      ],
      "metadata": {
        "colab": {
          "base_uri": "https://localhost:8080/"
        },
        "id": "Dck18qTgBYPg",
        "outputId": "1c8b4800-60a3-4e9b-be20-1c14a382b0eb"
      },
      "execution_count": null,
      "outputs": [
        {
          "output_type": "stream",
          "name": "stdout",
          "text": [
            "9\n"
          ]
        }
      ]
    },
    {
      "cell_type": "code",
      "source": [
        "# 두 수를 입력 받아 변수에 넣고 결과 출력\n",
        "input = 4\n",
        "input2 = 5\n",
        "result = input+input2\n",
        "print(result)"
      ],
      "metadata": {
        "colab": {
          "base_uri": "https://localhost:8080/"
        },
        "id": "q2yPNiKiB2Lf",
        "outputId": "3070ee8d-922d-4e5d-f105-6fbb723b891a"
      },
      "execution_count": null,
      "outputs": [
        {
          "output_type": "stream",
          "name": "stdout",
          "text": [
            "9\n"
          ]
        }
      ]
    },
    {
      "cell_type": "code",
      "source": [
        "# 위에 내용 반복\n",
        "input = 8\n",
        "input2 = 9\n",
        "result = input+input2\n",
        "print(result)"
      ],
      "metadata": {
        "colab": {
          "base_uri": "https://localhost:8080/"
        },
        "id": "tX2uBLxFESn3",
        "outputId": "2823f05c-bfc8-4519-a76c-57d8715acef5"
      },
      "execution_count": null,
      "outputs": [
        {
          "output_type": "stream",
          "name": "stdout",
          "text": [
            "17\n"
          ]
        }
      ]
    },
    {
      "cell_type": "code",
      "source": [],
      "metadata": {
        "id": "cOLaldcvFOK1"
      },
      "execution_count": null,
      "outputs": []
    }
  ]
}