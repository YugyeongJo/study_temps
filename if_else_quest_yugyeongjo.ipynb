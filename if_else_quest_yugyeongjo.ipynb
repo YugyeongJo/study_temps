{
  "nbformat": 4,
  "nbformat_minor": 0,
  "metadata": {
    "colab": {
      "provenance": [],
      "authorship_tag": "ABX9TyNooKk23ZknX7UGsgOFfAKg",
      "include_colab_link": true
    },
    "kernelspec": {
      "name": "python3",
      "display_name": "Python 3"
    },
    "language_info": {
      "name": "python"
    }
  },
  "cells": [
    {
      "cell_type": "markdown",
      "metadata": {
        "id": "view-in-github",
        "colab_type": "text"
      },
      "source": [
        "<a href=\"https://colab.research.google.com/github/YugyeongJo/study_temps/blob/main/if_else_quest_yugyeongjo.ipynb\" target=\"_parent\"><img src=\"https://colab.research.google.com/assets/colab-badge.svg\" alt=\"Open In Colab\"/></a>"
      ]
    },
    {
      "cell_type": "code",
      "execution_count": 4,
      "metadata": {
        "colab": {
          "base_uri": "https://localhost:8080/"
        },
        "id": "F7RKXMQwbSqD",
        "outputId": "ce3297a1-3a5c-40f8-a481-b51db648ffb7"
      },
      "outputs": [
        {
          "output_type": "stream",
          "name": "stdout",
          "text": [
            "오른쪽\n",
            "Program End!\n"
          ]
        }
      ],
      "source": [
        "#if_else_quest\n",
        "street = 2\n",
        "if (street == 1) :\n",
        "  pass\n",
        "  print(\"왼쪽\")\n",
        "else :\n",
        "  pass\n",
        "  print(\"오른쪽\")\n",
        "\n",
        "print(\"Program End!\")"
      ]
    }
  ]
}