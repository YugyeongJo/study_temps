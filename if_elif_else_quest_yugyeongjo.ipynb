{
  "nbformat": 4,
  "nbformat_minor": 0,
  "metadata": {
    "colab": {
      "provenance": [],
      "authorship_tag": "ABX9TyNpmbcA2J/P54H309eT0/ZW",
      "include_colab_link": true
    },
    "kernelspec": {
      "name": "python3",
      "display_name": "Python 3"
    },
    "language_info": {
      "name": "python"
    }
  },
  "cells": [
    {
      "cell_type": "markdown",
      "metadata": {
        "id": "view-in-github",
        "colab_type": "text"
      },
      "source": [
        "<a href=\"https://colab.research.google.com/github/YugyeongJo/study_temps/blob/main/if_elif_else_quest_yugyeongjo.ipynb\" target=\"_parent\"><img src=\"https://colab.research.google.com/assets/colab-badge.svg\" alt=\"Open In Colab\"/></a>"
      ]
    },
    {
      "cell_type": "code",
      "execution_count": 10,
      "metadata": {
        "colab": {
          "base_uri": "https://localhost:8080/"
        },
        "id": "wZBVzThAvaLY",
        "outputId": "590305d7-1670-4bbd-9676-a06774e3fe1d"
      },
      "outputs": [
        {
          "output_type": "stream",
          "name": "stdout",
          "text": [
            "False\n",
            "True\n",
            "True\n",
            "False\n",
            "B\n",
            "Program End!\n"
          ]
        }
      ],
      "source": [
        "# if_elif_else_quest\n",
        "# A, B, C, F 학점 나누기\n",
        "\n",
        "score = 80\n",
        "# 90점 이상 A\n",
        "print(score >= 90)\n",
        "# 80점 이상 B\n",
        "print(score >= 80)\n",
        "# 70점 이상 C\n",
        "print(score >= 70)\n",
        "# 70점 미만 F\n",
        "print(score < 70)\n",
        "\n",
        "if (score >= 90) :\n",
        "  pass\n",
        "  print(\"A\")\n",
        "elif (score >= 80) :\n",
        "  pass\n",
        "  print(\"B\")\n",
        "elif (score >= 70) :\n",
        "  pass\n",
        "  print(\"C\")\n",
        "else :\n",
        "  pass\n",
        "  print(\"F\")\n",
        "\n",
        "print(\"Program End!\")"
      ]
    }
  ]
}